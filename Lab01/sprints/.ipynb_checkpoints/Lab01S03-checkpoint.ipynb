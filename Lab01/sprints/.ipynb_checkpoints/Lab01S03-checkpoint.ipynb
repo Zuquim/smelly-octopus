{
 "cells": [
  {
   "cell_type": "code",
   "execution_count": 1,
   "metadata": {
    "collapsed": true,
    "pycharm": {
     "is_executing": false,
     "name": "#%%\n"
    }
   },
   "outputs": [
    {
     "data": {
      "text/html": [
       "<div>\n",
       "<style scoped>\n",
       "    .dataframe tbody tr th:only-of-type {\n",
       "        vertical-align: middle;\n",
       "    }\n",
       "\n",
       "    .dataframe tbody tr th {\n",
       "        vertical-align: top;\n",
       "    }\n",
       "\n",
       "    .dataframe thead th {\n",
       "        text-align: right;\n",
       "    }\n",
       "</style>\n",
       "<table border=\"1\" class=\"dataframe\">\n",
       "  <thead>\n",
       "    <tr style=\"text-align: right;\">\n",
       "      <th></th>\n",
       "      <th>nameWithOwner</th>\n",
       "      <th>url</th>\n",
       "      <th>createdAt</th>\n",
       "      <th>updatedAt</th>\n",
       "      <th>primaryLanguage</th>\n",
       "      <th>releases</th>\n",
       "      <th>pullRequests</th>\n",
       "      <th>all_issues</th>\n",
       "      <th>closed_issues</th>\n",
       "    </tr>\n",
       "  </thead>\n",
       "  <tbody>\n",
       "    <tr>\n",
       "      <th>0</th>\n",
       "      <td>freeCodeCamp/freeCodeCamp</td>\n",
       "      <td>https://github.com/freeCodeCamp/freeCodeCamp</td>\n",
       "      <td>2014-12-24T17:49:19Z</td>\n",
       "      <td>2020-03-09T22:30:48Z</td>\n",
       "      <td>JavaScript</td>\n",
       "      <td>0</td>\n",
       "      <td>23618</td>\n",
       "      <td>14240</td>\n",
       "      <td>14071</td>\n",
       "    </tr>\n",
       "    <tr>\n",
       "      <th>1</th>\n",
       "      <td>996icu/996.ICU</td>\n",
       "      <td>https://github.com/996icu/996.ICU</td>\n",
       "      <td>2019-03-26T07:31:14Z</td>\n",
       "      <td>2020-03-09T20:28:00Z</td>\n",
       "      <td>Rust</td>\n",
       "      <td>0</td>\n",
       "      <td>1837</td>\n",
       "      <td>0</td>\n",
       "      <td>0</td>\n",
       "    </tr>\n",
       "    <tr>\n",
       "      <th>2</th>\n",
       "      <td>vuejs/vue</td>\n",
       "      <td>https://github.com/vuejs/vue</td>\n",
       "      <td>2013-07-29T03:24:51Z</td>\n",
       "      <td>2020-03-09T23:18:57Z</td>\n",
       "      <td>JavaScript</td>\n",
       "      <td>208</td>\n",
       "      <td>1759</td>\n",
       "      <td>8841</td>\n",
       "      <td>8546</td>\n",
       "    </tr>\n",
       "    <tr>\n",
       "      <th>3</th>\n",
       "      <td>facebook/react</td>\n",
       "      <td>https://github.com/facebook/react</td>\n",
       "      <td>2013-05-24T16:15:54Z</td>\n",
       "      <td>2020-03-09T23:19:45Z</td>\n",
       "      <td>JavaScript</td>\n",
       "      <td>89</td>\n",
       "      <td>9187</td>\n",
       "      <td>8867</td>\n",
       "      <td>8400</td>\n",
       "    </tr>\n",
       "    <tr>\n",
       "      <th>4</th>\n",
       "      <td>tensorflow/tensorflow</td>\n",
       "      <td>https://github.com/tensorflow/tensorflow</td>\n",
       "      <td>2015-11-07T01:19:20Z</td>\n",
       "      <td>2020-03-09T23:13:09Z</td>\n",
       "      <td>C++</td>\n",
       "      <td>99</td>\n",
       "      <td>13741</td>\n",
       "      <td>23500</td>\n",
       "      <td>20321</td>\n",
       "    </tr>\n",
       "  </tbody>\n",
       "</table>\n",
       "</div>"
      ],
      "text/plain": [
       "               nameWithOwner                                           url  \\\n",
       "0  freeCodeCamp/freeCodeCamp  https://github.com/freeCodeCamp/freeCodeCamp   \n",
       "1             996icu/996.ICU             https://github.com/996icu/996.ICU   \n",
       "2                  vuejs/vue                  https://github.com/vuejs/vue   \n",
       "3             facebook/react             https://github.com/facebook/react   \n",
       "4      tensorflow/tensorflow      https://github.com/tensorflow/tensorflow   \n",
       "\n",
       "              createdAt             updatedAt primaryLanguage  releases  \\\n",
       "0  2014-12-24T17:49:19Z  2020-03-09T22:30:48Z      JavaScript         0   \n",
       "1  2019-03-26T07:31:14Z  2020-03-09T20:28:00Z            Rust         0   \n",
       "2  2013-07-29T03:24:51Z  2020-03-09T23:18:57Z      JavaScript       208   \n",
       "3  2013-05-24T16:15:54Z  2020-03-09T23:19:45Z      JavaScript        89   \n",
       "4  2015-11-07T01:19:20Z  2020-03-09T23:13:09Z             C++        99   \n",
       "\n",
       "   pullRequests  all_issues  closed_issues  \n",
       "0         23618       14240          14071  \n",
       "1          1837           0              0  \n",
       "2          1759        8841           8546  \n",
       "3          9187        8867           8400  \n",
       "4         13741       23500          20321  "
      ]
     },
     "execution_count": 1,
     "metadata": {},
     "output_type": "execute_result"
    }
   ],
   "source": [
    "import pandas as pd\n",
    "csv_path = \"../output/repositories.csv\"\n",
    "df = pd.read_csv(csv_path)\n",
    "df.head()"
   ]
  },
  {
   "cell_type": "code",
   "execution_count": 1,
   "metadata": {
    "pycharm": {
     "is_executing": false,
     "name": "#%%\n"
    }
   },
   "outputs": [],
   "source": [
    "class Repository:\n",
    "    __slots__ = [\n",
    "        \"owner\", \n",
    "        \"name\",\n",
    "        \"url\",\n",
    "        \"created\",\n",
    "        \"updated\",\n",
    "        \"primary_language\",\n",
    "        \"releases\",\n",
    "        \"pull_requests\",\n",
    "        \"total_issues\",\n",
    "        \"closed_issues\",\n",
    "    ]\n",
    "\n",
    "    def __init__(\n",
    "            self, \n",
    "            owner_slash_name,\n",
    "            url,\n",
    "            created,\n",
    "            updated,\n",
    "            primary_language=None,\n",
    "            releases=0,\n",
    "            pull_requests=0,\n",
    "            total_issues=0,\n",
    "            closed_issues=0\n",
    "    ):\n",
    "        self.owner = owner_slash_name.split(\"/\")[1]\n",
    "        self.name = owner_slash_name.split(\"/\")[0]\n",
    "        self.url = url\n",
    "        self.created = created\n",
    "        self.updated = updated\n",
    "        self.primary_language = primary_language\n",
    "        self.releases = releases\n",
    "        self.pull_requests = pull_requests\n",
    "        self.total_issues = total_issues\n",
    "        self.closed_issues = closed_issues\n",
    "\n",
    "    def __repr__(self):\n",
    "        pass\n",
    "\n",
    "    def __str__(self):\n",
    "        pass\n",
    "\n",
    "    def __dict__(self):\n",
    "        return {\n",
    "            \"owner\": self.owner,\n",
    "            \"name\": self.name,\n",
    "            \"url\": self.url,\n",
    "            \"created\": self.created,\n",
    "            \"updated\": self.updated,\n",
    "            \"primary language\": self.primary_language,\n",
    "            \"release\": self.releases,\n",
    "            \"pull request\": self.pull_requests,\n",
    "            \"total issues\": self.total_issues,\n",
    "            \"closed issues\": self.closed_issues,\n",
    "        }"
   ]
  },
  {
   "cell_type": "code",
   "execution_count": null,
   "metadata": {
    "pycharm": {
     "name": "#%%\n"
    }
   },
   "outputs": [],
   "source": []
  }
 ],
 "metadata": {
  "kernelspec": {
   "display_name": "Python 3",
   "language": "python",
   "name": "python3"
  },
  "language_info": {
   "codemirror_mode": {
    "name": "ipython",
    "version": 3
   },
   "file_extension": ".py",
   "mimetype": "text/x-python",
   "name": "python",
   "nbconvert_exporter": "python",
   "pygments_lexer": "ipython3",
   "version": "3.7.2"
  },
  "pycharm": {
   "stem_cell": {
    "cell_type": "raw",
    "metadata": {
     "collapsed": false
    },
    "source": []
   }
  }
 },
 "nbformat": 4,
 "nbformat_minor": 1
}
