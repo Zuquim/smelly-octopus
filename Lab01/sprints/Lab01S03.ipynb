{
 "cells": [
  {
   "cell_type": "code",
   "execution_count": 1,
   "metadata": {
    "collapsed": true,
    "pycharm": {
     "is_executing": false,
     "name": "#%%\n"
    }
   },
   "outputs": [],
   "source": [
    "import numpy as np\n",
    "import pandas as pd\n",
    "from datetime import datetime as dt"
   ]
  },
  {
   "cell_type": "code",
   "execution_count": 2,
   "metadata": {
    "pycharm": {
     "is_executing": false,
     "name": "#%%\n"
    }
   },
   "outputs": [],
   "source": [
    "csv_path = \"../output/repositories.csv\"\n",
    "df = pd.read_csv(csv_path)\n",
    "df.head()\n",
    "\n",
    "df_rq = pd.DataFrame(\n",
    "    data={\n",
    "        \"age\": [],\n",
    "    }\n",
    ")"
   ]
  },
  {
   "cell_type": "code",
   "execution_count": 32,
   "metadata": {
    "pycharm": {
     "is_executing": false,
     "name": "#%%\n"
    }
   },
   "outputs": [
    {
     "name": "stdout",
     "output_type": "stream",
     "text": [
      "Max:\t\t12.012343539097223 years\n",
      "Avg:\t\t5.520789311932283 years\n",
      "Min:\t\t3.1324158344675923 months\n",
      "Avg 0~99:\t1.5592950926027986 years\n",
      "Avg 450~549:\t5.407519838700034 years\n",
      "Avg 900~999:\t9.923180624657506 years\n",
      "Median:\t\t5.426870301621211 years\n"
     ]
    }
   ],
   "source": [
    "\"\"\"\n",
    "RQ 01. Sistemas populares são maduros/antigos?\n",
    "\n",
    "Métrica: idade do repositório (calculado a partir da data de sua criação)\n",
    "\"\"\"\n",
    "\n",
    "created_list = []\n",
    "for i, date_str in enumerate(df[\"createdAt\"]):\n",
    "    date = dt.strptime(date_str, \"%Y-%m-%dT%H:%M:%SZ\")\n",
    "    age = (dt.today() - date)\n",
    "    created_list.append(age.total_seconds())\n",
    "    # if age.days < 180:\n",
    "    #     print(i, age, df[\"nameWithOwner\"][i])\n",
    "\n",
    "print(f\"Min:\\t\\t{np.min(created_list)/60/60/24/30} months\")\n",
    "print(f\"Max:\\t\\t{np.max(created_list)/60/60/24/365} years\")\n",
    "print(f\"Avg:\\t\\t{np.average(created_list)/60/60/24/365} years\")\n",
    "\n",
    "cl = created_list\n",
    "cl.sort()\n",
    "\n",
    "print(f\"Avg 0~99:\\t{np.average(cl[0:99])/60/60/24/365} years\")\n",
    "print(f\"Avg 450~549:\\t{np.average(cl[450:549])/60/60/24/365} years\")\n",
    "print(f\"Avg 900~999:\\t{np.average(cl[900:999])/60/60/24/365} years\")\n",
    "\n",
    "print(f\"Median:\\t\\t{np.median(created_list)/60/60/24/365} years\")"
   ]
  },
  {
   "cell_type": "code",
   "execution_count": null,
   "metadata": {
    "pycharm": {
     "name": "#%%\n"
    }
   },
   "outputs": [],
   "source": [
    "\"\"\"\n",
    "RQ 02. Sistemas populares recebem muita contribuição externa?\n",
    "\n",
    "Métrica: total de pull requests aceitas\n",
    "\"\"\"\n",
    "\n"
   ]
  },
  {
   "cell_type": "code",
   "execution_count": null,
   "metadata": {
    "pycharm": {
     "name": "#%%\n"
    }
   },
   "outputs": [],
   "source": [
    "\"\"\"\n",
    "RQ 03. Sistemas populares lançam releases com frequência?\n",
    "\n",
    "Métrica: total de releases\n",
    "\"\"\"\n"
   ]
  },
  {
   "cell_type": "code",
   "execution_count": 16,
   "metadata": {
    "pycharm": {
     "is_executing": false,
     "name": "#%%\n"
    }
   },
   "outputs": [
    {
     "name": "stdout",
     "output_type": "stream",
     "text": [
      "Min:\t\t0.8166666666666667 minutos\n",
      "Max:\t\t6273.4 minutos\n",
      "Avg:\t\t312.72405 minutos\n",
      "Median:\t\t186.16666666666666 minutos\n"
     ]
    }
   ],
   "source": [
    "\"\"\"\n",
    "RQ 04. Sistemas populares são atualizados com frequência?\n",
    "\n",
    "Métrica: tempo até a última atualização (calculado a partir da data de última atualização)\n",
    "\"\"\"\n",
    "\n",
    "updated_list = []\n",
    "for i, date_str in enumerate(df[\"updatedAt\"]):\n",
    "    date = dt.strptime(date_str, \"%Y-%m-%dT%H:%M:%SZ\")\n",
    "    age = (dt(2020, 3, 9, 23, 23, 0) - date)\n",
    "    updated_list.append(age.total_seconds())\n",
    "    # if age.days > 1:\n",
    "    #     print(i, age, df[\"nameWithOwner\"][i])\n",
    "\n",
    "print(f\"Min:\\t\\t{np.min(updated_list)/60} minutos\")\n",
    "print(f\"Max:\\t\\t{np.max(updated_list)/60} minutos\")\n",
    "print(f\"Avg:\\t\\t{np.average(updated_list)/60} minutos\")\n",
    "\n",
    "cl = updated_list\n",
    "cl.sort()\n",
    "\n",
    "print(f\"Median:\\t\\t{np.median(updated_list)/60} minutos\")"
   ]
  },
  {
   "cell_type": "code",
   "execution_count": 17,
   "metadata": {
    "pycharm": {
     "is_executing": false,
     "name": "#%%\n"
    }
   },
   "outputs": [
    {
     "name": "stdout",
     "text": [
      "JavaScript, 303\n",
      "Rust, 9\n",
      "C++, 45\n",
      "nan, 116\n",
      "Shell, 22\n",
      "Java, 70\n",
      "TypeScript, 48\n",
      "Dart, 3\n",
      "C, 23\n",
      "Python, 94\n",
      "Jupyter Notebook, 12\n",
      "Go, 59\n",
      "CSS, 25\n",
      "PHP, 19\n",
      "Vue, 10\n",
      "C#, 8\n",
      "Assembly, 2\n",
      "Ruby, 17\n",
      "Clojure, 2\n",
      "HTML, 22\n",
      "Dockerfile, 1\n",
      "Kotlin, 11\n",
      "Vim script, 10\n",
      "Swift, 23\n",
      "Objective-C, 12\n",
      "TeX, 4\n",
      "Julia, 1\n",
      "Scala, 2\n",
      "Lua, 4\n",
      "Batchfile, 1\n",
      "OCaml, 1\n",
      "Objective-C++, 3\n",
      "Emacs Lisp, 1\n",
      "Haskell, 3\n",
      "Makefile, 2\n",
      "Rascal, 1\n",
      "Standard ML, 1\n",
      "Elixir, 2\n",
      "V, 1\n",
      "CoffeeScript, 4\n",
      "Rich Text Format, 1\n",
      "Crystal, 1\n",
      "Perl, 1\n"
     ],
     "output_type": "stream"
    },
    {
     "data": {
      "text/plain": "                  nameWithOwner  url  createdAt  updatedAt  releases  \\\nprimaryLanguage                                                        \nAssembly                      2    2          2          2         2   \nBatchfile                     1    1          1          1         1   \nC                            23   23         23         23        23   \nC#                            8    8          8          8         8   \nC++                          45   45         45         45        45   \nCSS                          25   25         25         25        25   \nClojure                       2    2          2          2         2   \nCoffeeScript                  4    4          4          4         4   \nCrystal                       1    1          1          1         1   \nDart                          3    3          3          3         3   \nDockerfile                    1    1          1          1         1   \nElixir                        2    2          2          2         2   \nEmacs Lisp                    1    1          1          1         1   \nGo                           59   59         59         59        59   \nHTML                         22   22         22         22        22   \nHaskell                       3    3          3          3         3   \nJava                         70   70         70         70        70   \nJavaScript                  303  303        303        303       303   \nJulia                         1    1          1          1         1   \nJupyter Notebook             12   12         12         12        12   \nKotlin                       11   11         11         11        11   \nLua                           4    4          4          4         4   \nMakefile                      2    2          2          2         2   \nOCaml                         1    1          1          1         1   \nObjective-C                  12   12         12         12        12   \nObjective-C++                 3    3          3          3         3   \nPHP                          19   19         19         19        19   \nPerl                          1    1          1          1         1   \nPython                       94   94         94         94        94   \nRascal                        1    1          1          1         1   \nRich Text Format              1    1          1          1         1   \nRuby                         17   17         17         17        17   \nRust                          9    9          9          9         9   \nScala                         2    2          2          2         2   \nShell                        22   22         22         22        22   \nStandard ML                   1    1          1          1         1   \nSwift                        23   23         23         23        23   \nTeX                           4    4          4          4         4   \nTypeScript                   48   48         48         48        48   \nV                             1    1          1          1         1   \nVim script                   10   10         10         10        10   \nVue                          10   10         10         10        10   \n\n                  pullRequests  all_issues  closed_issues  \nprimaryLanguage                                            \nAssembly                     2           2              2  \nBatchfile                    1           1              1  \nC                           23          23             23  \nC#                           8           8              8  \nC++                         45          45             45  \nCSS                         25          25             25  \nClojure                      2           2              2  \nCoffeeScript                 4           4              4  \nCrystal                      1           1              1  \nDart                         3           3              3  \nDockerfile                   1           1              1  \nElixir                       2           2              2  \nEmacs Lisp                   1           1              1  \nGo                          59          59             59  \nHTML                        22          22             22  \nHaskell                      3           3              3  \nJava                        70          70             70  \nJavaScript                 303         303            303  \nJulia                        1           1              1  \nJupyter Notebook            12          12             12  \nKotlin                      11          11             11  \nLua                          4           4              4  \nMakefile                     2           2              2  \nOCaml                        1           1              1  \nObjective-C                 12          12             12  \nObjective-C++                3           3              3  \nPHP                         19          19             19  \nPerl                         1           1              1  \nPython                      94          94             94  \nRascal                       1           1              1  \nRich Text Format             1           1              1  \nRuby                        17          17             17  \nRust                         9           9              9  \nScala                        2           2              2  \nShell                       22          22             22  \nStandard ML                  1           1              1  \nSwift                       23          23             23  \nTeX                          4           4              4  \nTypeScript                  48          48             48  \nV                            1           1              1  \nVim script                  10          10             10  \nVue                         10          10             10  ",
      "text/html": "<div>\n<style scoped>\n    .dataframe tbody tr th:only-of-type {\n        vertical-align: middle;\n    }\n\n    .dataframe tbody tr th {\n        vertical-align: top;\n    }\n\n    .dataframe thead th {\n        text-align: right;\n    }\n</style>\n<table border=\"1\" class=\"dataframe\">\n  <thead>\n    <tr style=\"text-align: right;\">\n      <th></th>\n      <th>nameWithOwner</th>\n      <th>url</th>\n      <th>createdAt</th>\n      <th>updatedAt</th>\n      <th>releases</th>\n      <th>pullRequests</th>\n      <th>all_issues</th>\n      <th>closed_issues</th>\n    </tr>\n    <tr>\n      <th>primaryLanguage</th>\n      <th></th>\n      <th></th>\n      <th></th>\n      <th></th>\n      <th></th>\n      <th></th>\n      <th></th>\n      <th></th>\n    </tr>\n  </thead>\n  <tbody>\n    <tr>\n      <th>Assembly</th>\n      <td>2</td>\n      <td>2</td>\n      <td>2</td>\n      <td>2</td>\n      <td>2</td>\n      <td>2</td>\n      <td>2</td>\n      <td>2</td>\n    </tr>\n    <tr>\n      <th>Batchfile</th>\n      <td>1</td>\n      <td>1</td>\n      <td>1</td>\n      <td>1</td>\n      <td>1</td>\n      <td>1</td>\n      <td>1</td>\n      <td>1</td>\n    </tr>\n    <tr>\n      <th>C</th>\n      <td>23</td>\n      <td>23</td>\n      <td>23</td>\n      <td>23</td>\n      <td>23</td>\n      <td>23</td>\n      <td>23</td>\n      <td>23</td>\n    </tr>\n    <tr>\n      <th>C#</th>\n      <td>8</td>\n      <td>8</td>\n      <td>8</td>\n      <td>8</td>\n      <td>8</td>\n      <td>8</td>\n      <td>8</td>\n      <td>8</td>\n    </tr>\n    <tr>\n      <th>C++</th>\n      <td>45</td>\n      <td>45</td>\n      <td>45</td>\n      <td>45</td>\n      <td>45</td>\n      <td>45</td>\n      <td>45</td>\n      <td>45</td>\n    </tr>\n    <tr>\n      <th>CSS</th>\n      <td>25</td>\n      <td>25</td>\n      <td>25</td>\n      <td>25</td>\n      <td>25</td>\n      <td>25</td>\n      <td>25</td>\n      <td>25</td>\n    </tr>\n    <tr>\n      <th>Clojure</th>\n      <td>2</td>\n      <td>2</td>\n      <td>2</td>\n      <td>2</td>\n      <td>2</td>\n      <td>2</td>\n      <td>2</td>\n      <td>2</td>\n    </tr>\n    <tr>\n      <th>CoffeeScript</th>\n      <td>4</td>\n      <td>4</td>\n      <td>4</td>\n      <td>4</td>\n      <td>4</td>\n      <td>4</td>\n      <td>4</td>\n      <td>4</td>\n    </tr>\n    <tr>\n      <th>Crystal</th>\n      <td>1</td>\n      <td>1</td>\n      <td>1</td>\n      <td>1</td>\n      <td>1</td>\n      <td>1</td>\n      <td>1</td>\n      <td>1</td>\n    </tr>\n    <tr>\n      <th>Dart</th>\n      <td>3</td>\n      <td>3</td>\n      <td>3</td>\n      <td>3</td>\n      <td>3</td>\n      <td>3</td>\n      <td>3</td>\n      <td>3</td>\n    </tr>\n    <tr>\n      <th>Dockerfile</th>\n      <td>1</td>\n      <td>1</td>\n      <td>1</td>\n      <td>1</td>\n      <td>1</td>\n      <td>1</td>\n      <td>1</td>\n      <td>1</td>\n    </tr>\n    <tr>\n      <th>Elixir</th>\n      <td>2</td>\n      <td>2</td>\n      <td>2</td>\n      <td>2</td>\n      <td>2</td>\n      <td>2</td>\n      <td>2</td>\n      <td>2</td>\n    </tr>\n    <tr>\n      <th>Emacs Lisp</th>\n      <td>1</td>\n      <td>1</td>\n      <td>1</td>\n      <td>1</td>\n      <td>1</td>\n      <td>1</td>\n      <td>1</td>\n      <td>1</td>\n    </tr>\n    <tr>\n      <th>Go</th>\n      <td>59</td>\n      <td>59</td>\n      <td>59</td>\n      <td>59</td>\n      <td>59</td>\n      <td>59</td>\n      <td>59</td>\n      <td>59</td>\n    </tr>\n    <tr>\n      <th>HTML</th>\n      <td>22</td>\n      <td>22</td>\n      <td>22</td>\n      <td>22</td>\n      <td>22</td>\n      <td>22</td>\n      <td>22</td>\n      <td>22</td>\n    </tr>\n    <tr>\n      <th>Haskell</th>\n      <td>3</td>\n      <td>3</td>\n      <td>3</td>\n      <td>3</td>\n      <td>3</td>\n      <td>3</td>\n      <td>3</td>\n      <td>3</td>\n    </tr>\n    <tr>\n      <th>Java</th>\n      <td>70</td>\n      <td>70</td>\n      <td>70</td>\n      <td>70</td>\n      <td>70</td>\n      <td>70</td>\n      <td>70</td>\n      <td>70</td>\n    </tr>\n    <tr>\n      <th>JavaScript</th>\n      <td>303</td>\n      <td>303</td>\n      <td>303</td>\n      <td>303</td>\n      <td>303</td>\n      <td>303</td>\n      <td>303</td>\n      <td>303</td>\n    </tr>\n    <tr>\n      <th>Julia</th>\n      <td>1</td>\n      <td>1</td>\n      <td>1</td>\n      <td>1</td>\n      <td>1</td>\n      <td>1</td>\n      <td>1</td>\n      <td>1</td>\n    </tr>\n    <tr>\n      <th>Jupyter Notebook</th>\n      <td>12</td>\n      <td>12</td>\n      <td>12</td>\n      <td>12</td>\n      <td>12</td>\n      <td>12</td>\n      <td>12</td>\n      <td>12</td>\n    </tr>\n    <tr>\n      <th>Kotlin</th>\n      <td>11</td>\n      <td>11</td>\n      <td>11</td>\n      <td>11</td>\n      <td>11</td>\n      <td>11</td>\n      <td>11</td>\n      <td>11</td>\n    </tr>\n    <tr>\n      <th>Lua</th>\n      <td>4</td>\n      <td>4</td>\n      <td>4</td>\n      <td>4</td>\n      <td>4</td>\n      <td>4</td>\n      <td>4</td>\n      <td>4</td>\n    </tr>\n    <tr>\n      <th>Makefile</th>\n      <td>2</td>\n      <td>2</td>\n      <td>2</td>\n      <td>2</td>\n      <td>2</td>\n      <td>2</td>\n      <td>2</td>\n      <td>2</td>\n    </tr>\n    <tr>\n      <th>OCaml</th>\n      <td>1</td>\n      <td>1</td>\n      <td>1</td>\n      <td>1</td>\n      <td>1</td>\n      <td>1</td>\n      <td>1</td>\n      <td>1</td>\n    </tr>\n    <tr>\n      <th>Objective-C</th>\n      <td>12</td>\n      <td>12</td>\n      <td>12</td>\n      <td>12</td>\n      <td>12</td>\n      <td>12</td>\n      <td>12</td>\n      <td>12</td>\n    </tr>\n    <tr>\n      <th>Objective-C++</th>\n      <td>3</td>\n      <td>3</td>\n      <td>3</td>\n      <td>3</td>\n      <td>3</td>\n      <td>3</td>\n      <td>3</td>\n      <td>3</td>\n    </tr>\n    <tr>\n      <th>PHP</th>\n      <td>19</td>\n      <td>19</td>\n      <td>19</td>\n      <td>19</td>\n      <td>19</td>\n      <td>19</td>\n      <td>19</td>\n      <td>19</td>\n    </tr>\n    <tr>\n      <th>Perl</th>\n      <td>1</td>\n      <td>1</td>\n      <td>1</td>\n      <td>1</td>\n      <td>1</td>\n      <td>1</td>\n      <td>1</td>\n      <td>1</td>\n    </tr>\n    <tr>\n      <th>Python</th>\n      <td>94</td>\n      <td>94</td>\n      <td>94</td>\n      <td>94</td>\n      <td>94</td>\n      <td>94</td>\n      <td>94</td>\n      <td>94</td>\n    </tr>\n    <tr>\n      <th>Rascal</th>\n      <td>1</td>\n      <td>1</td>\n      <td>1</td>\n      <td>1</td>\n      <td>1</td>\n      <td>1</td>\n      <td>1</td>\n      <td>1</td>\n    </tr>\n    <tr>\n      <th>Rich Text Format</th>\n      <td>1</td>\n      <td>1</td>\n      <td>1</td>\n      <td>1</td>\n      <td>1</td>\n      <td>1</td>\n      <td>1</td>\n      <td>1</td>\n    </tr>\n    <tr>\n      <th>Ruby</th>\n      <td>17</td>\n      <td>17</td>\n      <td>17</td>\n      <td>17</td>\n      <td>17</td>\n      <td>17</td>\n      <td>17</td>\n      <td>17</td>\n    </tr>\n    <tr>\n      <th>Rust</th>\n      <td>9</td>\n      <td>9</td>\n      <td>9</td>\n      <td>9</td>\n      <td>9</td>\n      <td>9</td>\n      <td>9</td>\n      <td>9</td>\n    </tr>\n    <tr>\n      <th>Scala</th>\n      <td>2</td>\n      <td>2</td>\n      <td>2</td>\n      <td>2</td>\n      <td>2</td>\n      <td>2</td>\n      <td>2</td>\n      <td>2</td>\n    </tr>\n    <tr>\n      <th>Shell</th>\n      <td>22</td>\n      <td>22</td>\n      <td>22</td>\n      <td>22</td>\n      <td>22</td>\n      <td>22</td>\n      <td>22</td>\n      <td>22</td>\n    </tr>\n    <tr>\n      <th>Standard ML</th>\n      <td>1</td>\n      <td>1</td>\n      <td>1</td>\n      <td>1</td>\n      <td>1</td>\n      <td>1</td>\n      <td>1</td>\n      <td>1</td>\n    </tr>\n    <tr>\n      <th>Swift</th>\n      <td>23</td>\n      <td>23</td>\n      <td>23</td>\n      <td>23</td>\n      <td>23</td>\n      <td>23</td>\n      <td>23</td>\n      <td>23</td>\n    </tr>\n    <tr>\n      <th>TeX</th>\n      <td>4</td>\n      <td>4</td>\n      <td>4</td>\n      <td>4</td>\n      <td>4</td>\n      <td>4</td>\n      <td>4</td>\n      <td>4</td>\n    </tr>\n    <tr>\n      <th>TypeScript</th>\n      <td>48</td>\n      <td>48</td>\n      <td>48</td>\n      <td>48</td>\n      <td>48</td>\n      <td>48</td>\n      <td>48</td>\n      <td>48</td>\n    </tr>\n    <tr>\n      <th>V</th>\n      <td>1</td>\n      <td>1</td>\n      <td>1</td>\n      <td>1</td>\n      <td>1</td>\n      <td>1</td>\n      <td>1</td>\n      <td>1</td>\n    </tr>\n    <tr>\n      <th>Vim script</th>\n      <td>10</td>\n      <td>10</td>\n      <td>10</td>\n      <td>10</td>\n      <td>10</td>\n      <td>10</td>\n      <td>10</td>\n      <td>10</td>\n    </tr>\n    <tr>\n      <th>Vue</th>\n      <td>10</td>\n      <td>10</td>\n      <td>10</td>\n      <td>10</td>\n      <td>10</td>\n      <td>10</td>\n      <td>10</td>\n      <td>10</td>\n    </tr>\n  </tbody>\n</table>\n</div>"
     },
     "metadata": {},
     "output_type": "execute_result",
     "execution_count": 17
    }
   ],
   "source": [
    "\"\"\"\n",
    "RQ 05. \n",
    "\n",
    "\"\"\"\n",
    "\n",
    "lang_list = []\n",
    "lang_list_ = []\n",
    "for lang in df[\"primaryLanguage\"]:\n",
    "    lang_list_.append(lang)\n",
    "    if lang not in lang_list:\n",
    "        lang_list.append(lang)\n",
    "\n",
    "\n",
    "for lang in lang_list:\n",
    "    print(f\"{lang}, {lang_list_.count(lang)}\")\n",
    "\n",
    "df.groupby(\"primaryLanguage\").count()"
   ]
  }
 ],
 "metadata": {
  "kernelspec": {
   "display_name": "Python 3",
   "language": "python",
   "name": "python3"
  },
  "language_info": {
   "codemirror_mode": {
    "name": "ipython",
    "version": 3
   },
   "file_extension": ".py",
   "mimetype": "text/x-python",
   "name": "python",
   "nbconvert_exporter": "python",
   "pygments_lexer": "ipython3",
   "version": "3.7.2"
  },
  "pycharm": {
   "stem_cell": {
    "cell_type": "raw",
    "source": [],
    "metadata": {
     "collapsed": false
    }
   }
  }
 },
 "nbformat": 4,
 "nbformat_minor": 1
}